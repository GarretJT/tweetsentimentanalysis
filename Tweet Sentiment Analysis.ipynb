{
  "cells": [
    {
      "cell_type": "markdown",
      "metadata": {
        "id": "jsCM-UVPG52W"
      },
      "source": [
        "# Tweets Dataset"
      ]
    },
    {
      "cell_type": "code",
      "execution_count": null,
      "metadata": {
        "colab": {
          "base_uri": "https://localhost:8080/"
        },
        "id": "T3yhYbMABxnv",
        "outputId": "4b173fb0-70b6-4531-a3d1-8f7324e09154"
      },
      "outputs": [
        {
          "name": "stdout",
          "output_type": "stream",
          "text": [
            "Drive already mounted at /content/drive; to attempt to forcibly remount, call drive.mount(\"/content/drive\", force_remount=True).\n",
            "                 tweet_id airline_sentiment  airline_sentiment_confidence  \\\n",
            "0      570306133677760513           neutral                        1.0000   \n",
            "1      570301130888122368          positive                        0.3486   \n",
            "2      570301083672813571           neutral                        0.6837   \n",
            "3      570301031407624196          negative                        1.0000   \n",
            "4      570300817074462722          negative                        1.0000   \n",
            "...                   ...               ...                           ...   \n",
            "14635  569587686496825344          positive                        0.3487   \n",
            "14636  569587371693355008          negative                        1.0000   \n",
            "14637  569587242672398336           neutral                        1.0000   \n",
            "14638  569587188687634433          negative                        1.0000   \n",
            "14639  569587140490866689           neutral                        0.6771   \n",
            "\n",
            "               negativereason  negativereason_confidence         airline  \\\n",
            "0                         NaN                        NaN  Virgin America   \n",
            "1                         NaN                     0.0000  Virgin America   \n",
            "2                         NaN                        NaN  Virgin America   \n",
            "3                  Bad Flight                     0.7033  Virgin America   \n",
            "4                  Can't Tell                     1.0000  Virgin America   \n",
            "...                       ...                        ...             ...   \n",
            "14635                     NaN                     0.0000        American   \n",
            "14636  Customer Service Issue                     1.0000        American   \n",
            "14637                     NaN                        NaN        American   \n",
            "14638  Customer Service Issue                     0.6659        American   \n",
            "14639                     NaN                     0.0000        American   \n",
            "\n",
            "      airline_sentiment_gold             name negativereason_gold  \\\n",
            "0                        NaN          cairdin                 NaN   \n",
            "1                        NaN         jnardino                 NaN   \n",
            "2                        NaN       yvonnalynn                 NaN   \n",
            "3                        NaN         jnardino                 NaN   \n",
            "4                        NaN         jnardino                 NaN   \n",
            "...                      ...              ...                 ...   \n",
            "14635                    NaN  KristenReenders                 NaN   \n",
            "14636                    NaN         itsropes                 NaN   \n",
            "14637                    NaN         sanyabun                 NaN   \n",
            "14638                    NaN       SraJackson                 NaN   \n",
            "14639                    NaN        daviddtwu                 NaN   \n",
            "\n",
            "       retweet_count                                               text  \\\n",
            "0                  0                @VirginAmerica What @dhepburn said.   \n",
            "1                  0  @VirginAmerica plus you've added commercials t...   \n",
            "2                  0  @VirginAmerica I didn't today... Must mean I n...   \n",
            "3                  0  @VirginAmerica it's really aggressive to blast...   \n",
            "4                  0  @VirginAmerica and it's a really big bad thing...   \n",
            "...              ...                                                ...   \n",
            "14635              0  @AmericanAir thank you we got on a different f...   \n",
            "14636              0  @AmericanAir leaving over 20 minutes Late Flig...   \n",
            "14637              0  @AmericanAir Please bring American Airlines to...   \n",
            "14638              0  @AmericanAir you have my money, you change my ...   \n",
            "14639              0  @AmericanAir we have 8 ppl so we need 2 know h...   \n",
            "\n",
            "      tweet_coord              tweet_created tweet_location  \\\n",
            "0             NaN  2015-02-24 11:35:52 -0800            NaN   \n",
            "1             NaN  2015-02-24 11:15:59 -0800            NaN   \n",
            "2             NaN  2015-02-24 11:15:48 -0800      Lets Play   \n",
            "3             NaN  2015-02-24 11:15:36 -0800            NaN   \n",
            "4             NaN  2015-02-24 11:14:45 -0800            NaN   \n",
            "...           ...                        ...            ...   \n",
            "14635         NaN  2015-02-22 12:01:01 -0800            NaN   \n",
            "14636         NaN  2015-02-22 11:59:46 -0800          Texas   \n",
            "14637         NaN  2015-02-22 11:59:15 -0800  Nigeria,lagos   \n",
            "14638         NaN  2015-02-22 11:59:02 -0800     New Jersey   \n",
            "14639         NaN  2015-02-22 11:58:51 -0800     dallas, TX   \n",
            "\n",
            "                    user_timezone  \n",
            "0      Eastern Time (US & Canada)  \n",
            "1      Pacific Time (US & Canada)  \n",
            "2      Central Time (US & Canada)  \n",
            "3      Pacific Time (US & Canada)  \n",
            "4      Pacific Time (US & Canada)  \n",
            "...                           ...  \n",
            "14635                         NaN  \n",
            "14636                         NaN  \n",
            "14637                         NaN  \n",
            "14638  Eastern Time (US & Canada)  \n",
            "14639                         NaN  \n",
            "\n",
            "[14640 rows x 15 columns]\n"
          ]
        }
      ],
      "source": [
        "from google.colab import drive\n",
        "drive.mount('/content/drive')\n",
        "import pandas as pd\n",
        "\n",
        "tweet_df = pd.read_csv('/content/drive/MyDrive/Tweets.csv', encoding=\"ISO-8859-1\")\n",
        "\n",
        "print(tweet_df)"
      ]
    },
    {
      "cell_type": "markdown",
      "metadata": {
        "id": "FQvhzc9kG8tP"
      },
      "source": [
        "# Naive Bayes Classifier\n"
      ]
    },
    {
      "cell_type": "code",
      "execution_count": null,
      "metadata": {
        "colab": {
          "base_uri": "https://localhost:8080/"
        },
        "id": "bRWL8c_xB9_c",
        "outputId": "95dd46af-954a-4885-c8fc-7399806b3d58"
      },
      "outputs": [
        {
          "name": "stdout",
          "output_type": "stream",
          "text": [
            "Accuracy: 0.74\n",
            "Classification Report:\n",
            "              precision    recall  f1-score   support\n",
            "\n",
            "    negative       0.72      0.99      0.84      1889\n",
            "     neutral       0.76      0.24      0.37       580\n",
            "    positive       0.91      0.32      0.48       459\n",
            "\n",
            "    accuracy                           0.74      2928\n",
            "   macro avg       0.80      0.52      0.56      2928\n",
            "weighted avg       0.76      0.74      0.69      2928\n",
            "\n",
            "Confusion Matrix:\n",
            "[[1869   17    3]\n",
            " [ 427  142   11]\n",
            " [ 283   27  149]]\n"
          ]
        }
      ],
      "source": [
        "import pandas as pd\n",
        "from sklearn.model_selection import train_test_split\n",
        "from sklearn.feature_extraction.text import TfidfVectorizer\n",
        "from sklearn.naive_bayes import MultinomialNB\n",
        "from sklearn.metrics import accuracy_score, classification_report, confusion_matrix\n",
        "\n",
        "df = pd.read_csv('/content/drive/MyDrive/Tweets.csv', encoding=\"ISO-8859-1\")\n",
        "\n",
        "X = df['text']\n",
        "y = df['airline_sentiment']\n",
        "\n",
        "X_train, X_test, y_train, y_test = train_test_split(X, y, test_size=0.2, random_state=42)\n",
        "\n",
        "vectorizer = TfidfVectorizer(max_features=5000)\n",
        "X_train_tfidf = vectorizer.fit_transform(X_train)\n",
        "X_test_tfidf = vectorizer.transform(X_test)\n",
        "\n",
        "model = MultinomialNB()\n",
        "model.fit(X_train_tfidf, y_train)\n",
        "\n",
        "y_pred = model.predict(X_test_tfidf)\n",
        "\n",
        "accuracy = accuracy_score(y_test, y_pred)\n",
        "print(f\"Accuracy: {accuracy:.2f}\")\n",
        "\n",
        "print(\"Classification Report:\")\n",
        "print(classification_report(y_test, y_pred))\n",
        "\n",
        "print(\"Confusion Matrix:\")\n",
        "print(confusion_matrix(y_test, y_pred))\n"
      ]
    },
    {
      "cell_type": "markdown",
      "metadata": {
        "id": "bi24MX5QHA3n"
      },
      "source": [
        "# Random Forest Classifier"
      ]
    },
    {
      "cell_type": "code",
      "execution_count": null,
      "metadata": {
        "colab": {
          "base_uri": "https://localhost:8080/"
        },
        "id": "RfxDGpH4B_uo",
        "outputId": "ae627dac-a139-4311-a340-0cdf0ec0df89"
      },
      "outputs": [
        {
          "name": "stdout",
          "output_type": "stream",
          "text": [
            "Accuracy: 0.77\n",
            "Classification Report:\n",
            "              precision    recall  f1-score   support\n",
            "\n",
            "    negative       0.78      0.96      0.86      1889\n",
            "     neutral       0.67      0.40      0.50       580\n",
            "    positive       0.81      0.46      0.59       459\n",
            "\n",
            "    accuracy                           0.77      2928\n",
            "   macro avg       0.76      0.61      0.65      2928\n",
            "weighted avg       0.76      0.77      0.75      2928\n",
            "\n",
            "Confusion Matrix:\n",
            "[[1815   56   18]\n",
            " [ 317  231   32]\n",
            " [ 190   56  213]]\n"
          ]
        }
      ],
      "source": [
        "import pandas as pd\n",
        "from sklearn.model_selection import train_test_split\n",
        "from sklearn.feature_extraction.text import TfidfVectorizer\n",
        "from sklearn.ensemble import RandomForestClassifier\n",
        "from sklearn.metrics import accuracy_score, classification_report, confusion_matrix\n",
        "\n",
        "df = pd.read_csv('/content/drive/MyDrive/Tweets.csv', encoding=\"ISO-8859-1\")\n",
        "\n",
        "X = df['text']\n",
        "y = df['airline_sentiment']\n",
        "\n",
        "X_train, X_test, y_train, y_test = train_test_split(X, y, test_size=0.2, random_state=42)\n",
        "\n",
        "vectorizer = TfidfVectorizer(max_features=5000)\n",
        "X_train_tfidf = vectorizer.fit_transform(X_train)\n",
        "X_test_tfidf = vectorizer.transform(X_test)\n",
        "\n",
        "model = RandomForestClassifier(n_estimators=100, random_state=42)\n",
        "model.fit(X_train_tfidf, y_train)\n",
        "\n",
        "y_pred = model.predict(X_test_tfidf)\n",
        "\n",
        "accuracy = accuracy_score(y_test, y_pred)\n",
        "print(f\"Accuracy: {accuracy:.2f}\")\n",
        "\n",
        "print(\"Classification Report:\")\n",
        "print(classification_report(y_test, y_pred))\n",
        "\n",
        "print(\"Confusion Matrix:\")\n",
        "print(confusion_matrix(y_test, y_pred))\n",
        "\n"
      ]
    },
    {
      "cell_type": "markdown",
      "metadata": {
        "id": "o-0qyz7jHGWc"
      },
      "source": [
        "# KNN Model Classifier"
      ]
    },
    {
      "cell_type": "code",
      "execution_count": null,
      "metadata": {
        "colab": {
          "base_uri": "https://localhost:8080/"
        },
        "id": "o75Oo82HNRCI",
        "outputId": "304f38a2-7f9f-46f3-de30-b1ab0c8e1f90"
      },
      "outputs": [
        {
          "name": "stdout",
          "output_type": "stream",
          "text": [
            "Accuracy: 0.72\n",
            "Classification Report:\n",
            "              precision    recall  f1-score   support\n",
            "\n",
            "    negative       0.81      0.83      0.82      1889\n",
            "     neutral       0.46      0.48      0.47       580\n",
            "    positive       0.66      0.58      0.62       459\n",
            "\n",
            "    accuracy                           0.72      2928\n",
            "   macro avg       0.64      0.63      0.64      2928\n",
            "weighted avg       0.72      0.72      0.72      2928\n",
            "\n",
            "Confusion Matrix:\n",
            "[[1559  251   79]\n",
            " [ 243  281   56]\n",
            " [ 112   83  264]]\n"
          ]
        }
      ],
      "source": [
        "import pandas as pd\n",
        "from sklearn.model_selection import train_test_split\n",
        "from sklearn.feature_extraction.text import TfidfVectorizer\n",
        "from sklearn.neighbors import KNeighborsClassifier\n",
        "from sklearn.metrics import accuracy_score, classification_report, confusion_matrix\n",
        "\n",
        "df = pd.read_csv('/content/drive/MyDrive/Tweets.csv', encoding=\"ISO-8859-1\")\n",
        "\n",
        "X = df['text']\n",
        "y = df['airline_sentiment']\n",
        "\n",
        "X_train, X_test, y_train, y_test = train_test_split(X, y, test_size=0.2, random_state=42)\n",
        "\n",
        "vectorizer = TfidfVectorizer(max_features=5000)\n",
        "X_train_tfidf = vectorizer.fit_transform(X_train)\n",
        "X_test_tfidf = vectorizer.transform(X_test)\n",
        "\n",
        "knn_model = KNeighborsClassifier(n_neighbors=5)\n",
        "knn_model.fit(X_train_tfidf, y_train)\n",
        "\n",
        "y_pred = knn_model.predict(X_test_tfidf)\n",
        "\n",
        "accuracy = accuracy_score(y_test, y_pred)\n",
        "print(f\"Accuracy: {accuracy:.2f}\")\n",
        "\n",
        "print(\"Classification Report:\")\n",
        "print(classification_report(y_test, y_pred))\n",
        "\n",
        "print(\"Confusion Matrix:\")\n",
        "print(confusion_matrix(y_test, y_pred))\n"
      ]
    },
    {
      "cell_type": "markdown",
      "metadata": {
        "id": "FnoOFBu6HIXm"
      },
      "source": [
        "# Logistic Regression"
      ]
    },
    {
      "cell_type": "code",
      "execution_count": null,
      "metadata": {
        "colab": {
          "base_uri": "https://localhost:8080/"
        },
        "id": "J_-IaHW2G4lr",
        "outputId": "982c9c2b-6265-4787-ad0d-c936fc7513e5"
      },
      "outputs": [
        {
          "name": "stdout",
          "output_type": "stream",
          "text": [
            "Accuracy: 0.81\n",
            "Classification Report:\n",
            "              precision    recall  f1-score   support\n",
            "\n",
            "    negative       0.84      0.94      0.88      1889\n",
            "     neutral       0.67      0.53      0.59       580\n",
            "    positive       0.80      0.62      0.70       459\n",
            "\n",
            "    accuracy                           0.81      2928\n",
            "   macro avg       0.77      0.70      0.72      2928\n",
            "weighted avg       0.80      0.81      0.80      2928\n",
            "\n",
            "Confusion Matrix:\n",
            "[[1767   92   30]\n",
            " [ 231  306   43]\n",
            " [ 116   57  286]]\n"
          ]
        }
      ],
      "source": [
        "import pandas as pd\n",
        "from sklearn.model_selection import train_test_split\n",
        "from sklearn.feature_extraction.text import TfidfVectorizer\n",
        "from sklearn.linear_model import LogisticRegression\n",
        "from sklearn.metrics import accuracy_score, classification_report, confusion_matrix\n",
        "\n",
        "df = pd.read_csv('/content/drive/MyDrive/Tweets.csv', encoding=\"ISO-8859-1\")\n",
        "\n",
        "X = df['text']\n",
        "y = df['airline_sentiment']\n",
        "\n",
        "X_train, X_test, y_train, y_test = train_test_split(X, y, test_size=0.2, random_state=42)\n",
        "\n",
        "vectorizer = TfidfVectorizer(max_features=5000)\n",
        "X_train_tfidf = vectorizer.fit_transform(X_train)\n",
        "X_test_tfidf = vectorizer.transform(X_test)\n",
        "\n",
        "logreg_model = LogisticRegression()\n",
        "logreg_model.fit(X_train_tfidf, y_train)\n",
        "\n",
        "y_pred = logreg_model.predict(X_test_tfidf)\n",
        "\n",
        "accuracy = accuracy_score(y_test, y_pred)\n",
        "print(f\"Accuracy: {accuracy:.2f}\")\n",
        "\n",
        "print(\"Classification Report:\")\n",
        "print(classification_report(y_test, y_pred))\n",
        "\n",
        "print(\"Confusion Matrix:\")\n",
        "print(confusion_matrix(y_test, y_pred))\n"
      ]
    }
  ],
  "metadata": {
    "colab": {
      "provenance": []
    },
    "kernelspec": {
      "display_name": "Python 3",
      "name": "python3"
    },
    "language_info": {
      "name": "python"
    }
  },
  "nbformat": 4,
  "nbformat_minor": 0
}
